{
 "cells": [
  {
   "cell_type": "markdown",
   "id": "6c647e78-5702-499c-a31c-c688e619bdb0",
   "metadata": {
    "tags": []
   },
   "source": [
    "## Walkthru sample notebook"
   ]
  },
  {
   "cell_type": "markdown",
   "id": "1b71b7bb-1833-4ac1-a7a4-b4fe7e063a91",
   "metadata": {
    "tags": []
   },
   "source": [
    "Here is how calculate 1+1"
   ]
  },
  {
   "cell_type": "code",
   "execution_count": 7,
   "id": "15e0445a-88e8-4ee2-9988-790c75876ee2",
   "metadata": {
    "tags": []
   },
   "outputs": [
    {
     "data": {
      "text/plain": [
       "2"
      ]
     },
     "execution_count": 7,
     "metadata": {},
     "output_type": "execute_result"
    }
   ],
   "source": [
    "1+1"
   ]
  },
  {
   "cell_type": "code",
   "execution_count": 8,
   "id": "1b044f8e-9d8f-43f9-bdb3-3ad00b33a2ba",
   "metadata": {
    "tags": []
   },
   "outputs": [],
   "source": [
    "from numpy import *"
   ]
  },
  {
   "cell_type": "markdown",
   "id": "6ca76943-e7e4-4db6-876b-71e4a9183d8a",
   "metadata": {},
   "source": [
    "Here is how I calculate sin"
   ]
  },
  {
   "cell_type": "code",
   "execution_count": 9,
   "id": "f200a3c8-858c-4c92-b92c-bbb9dadb614f",
   "metadata": {
    "tags": []
   },
   "outputs": [
    {
     "data": {
      "text/plain": [
       "array([0.84147098, 1.        ])"
      ]
     },
     "execution_count": 9,
     "metadata": {},
     "output_type": "execute_result"
    }
   ],
   "source": [
    "a = array([1.0, pi/2])\n",
    "sin(a)"
   ]
  },
  {
   "cell_type": "code",
   "execution_count": null,
   "id": "63bf6d35-9d5f-4b11-a0b4-1a13e84b4a19",
   "metadata": {},
   "outputs": [],
   "source": []
  },
  {
   "cell_type": "code",
   "execution_count": null,
   "id": "f5758b2d-e476-4cf5-981b-f97c0b16bd6b",
   "metadata": {},
   "outputs": [],
   "source": []
  },
  {
   "cell_type": "code",
   "execution_count": null,
   "id": "3470eca0-7382-429b-a7e6-6fd3c9342e36",
   "metadata": {},
   "outputs": [],
   "source": []
  }
 ],
 "metadata": {
  "kernelspec": {
   "display_name": "Python 3 (ipykernel)",
   "language": "python",
   "name": "python3"
  },
  "language_info": {
   "codemirror_mode": {
    "name": "ipython",
    "version": 3
   },
   "file_extension": ".py",
   "mimetype": "text/x-python",
   "name": "python",
   "nbconvert_exporter": "python",
   "pygments_lexer": "ipython3",
   "version": "3.10.8"
  }
 },
 "nbformat": 4,
 "nbformat_minor": 5
}
